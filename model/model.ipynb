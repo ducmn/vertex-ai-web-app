{
 "cells": [
  {
   "cell_type": "code",
   "execution_count": 2,
   "id": "af92c5ae",
   "metadata": {},
   "outputs": [],
   "source": [
    "import sys"
   ]
  },
  {
   "cell_type": "code",
   "execution_count": 25,
   "id": "a0b62619",
   "metadata": {},
   "outputs": [
    {
     "name": "stdout",
     "output_type": "stream",
     "text": [
      "TensorFlow version: 2.9.1\n"
     ]
    }
   ],
   "source": [
    "import tensorflow as tf\n",
    "from tensorflow import keras\n",
    "\n",
    "from tensorflow.keras import layers\n",
    "\n",
    "# Helper libraries\n",
    "import numpy as np\n",
    "import matplotlib.pyplot as plt\n",
    "import os\n",
    "import subprocess\n",
    "\n",
    "print('TensorFlow version: {}'.format(tf.__version__))"
   ]
  },
  {
   "cell_type": "code",
   "execution_count": 9,
   "id": "4a13ab56",
   "metadata": {},
   "outputs": [],
   "source": [
    "import pandas as pd"
   ]
  },
  {
   "cell_type": "code",
   "execution_count": 11,
   "id": "69def176",
   "metadata": {},
   "outputs": [
    {
     "data": {
      "text/html": [
       "<div>\n",
       "<style scoped>\n",
       "    .dataframe tbody tr th:only-of-type {\n",
       "        vertical-align: middle;\n",
       "    }\n",
       "\n",
       "    .dataframe tbody tr th {\n",
       "        vertical-align: top;\n",
       "    }\n",
       "\n",
       "    .dataframe thead th {\n",
       "        text-align: right;\n",
       "    }\n",
       "</style>\n",
       "<table border=\"1\" class=\"dataframe\">\n",
       "  <thead>\n",
       "    <tr style=\"text-align: right;\">\n",
       "      <th></th>\n",
       "      <th>event_wday</th>\n",
       "      <th>user_id</th>\n",
       "      <th>session_id</th>\n",
       "      <th>session_duration</th>\n",
       "      <th>is_new_visitor</th>\n",
       "      <th>account_sign_in</th>\n",
       "      <th>saw_search_results_n</th>\n",
       "      <th>product_list_pageview_n</th>\n",
       "      <th>product_pageviews_n</th>\n",
       "      <th>add_to_cart_n</th>\n",
       "      <th>reached_cart_n</th>\n",
       "      <th>start_checkout_n</th>\n",
       "      <th>shipping_stage_completed_n</th>\n",
       "      <th>payment_stage_completed</th>\n",
       "      <th>transactions</th>\n",
       "    </tr>\n",
       "  </thead>\n",
       "  <tbody>\n",
       "    <tr>\n",
       "      <th>0</th>\n",
       "      <td>Sunday</td>\n",
       "      <td>8.202397e+07</td>\n",
       "      <td>1090192382</td>\n",
       "      <td>16075196</td>\n",
       "      <td>1</td>\n",
       "      <td>0</td>\n",
       "      <td>0</td>\n",
       "      <td>1</td>\n",
       "      <td>0</td>\n",
       "      <td>0</td>\n",
       "      <td>0</td>\n",
       "      <td>0</td>\n",
       "      <td>0</td>\n",
       "      <td>0</td>\n",
       "      <td>0</td>\n",
       "    </tr>\n",
       "    <tr>\n",
       "      <th>1</th>\n",
       "      <td>Sunday</td>\n",
       "      <td>5.021426e+07</td>\n",
       "      <td>9011333152</td>\n",
       "      <td>15868556</td>\n",
       "      <td>1</td>\n",
       "      <td>0</td>\n",
       "      <td>0</td>\n",
       "      <td>0</td>\n",
       "      <td>0</td>\n",
       "      <td>0</td>\n",
       "      <td>0</td>\n",
       "      <td>0</td>\n",
       "      <td>0</td>\n",
       "      <td>0</td>\n",
       "      <td>0</td>\n",
       "    </tr>\n",
       "    <tr>\n",
       "      <th>2</th>\n",
       "      <td>Sunday</td>\n",
       "      <td>7.659669e+06</td>\n",
       "      <td>9613106892</td>\n",
       "      <td>27746287</td>\n",
       "      <td>1</td>\n",
       "      <td>0</td>\n",
       "      <td>0</td>\n",
       "      <td>1</td>\n",
       "      <td>0</td>\n",
       "      <td>0</td>\n",
       "      <td>0</td>\n",
       "      <td>0</td>\n",
       "      <td>0</td>\n",
       "      <td>0</td>\n",
       "      <td>0</td>\n",
       "    </tr>\n",
       "    <tr>\n",
       "      <th>3</th>\n",
       "      <td>Sunday</td>\n",
       "      <td>4.617377e+07</td>\n",
       "      <td>5207106256</td>\n",
       "      <td>33435383</td>\n",
       "      <td>1</td>\n",
       "      <td>1</td>\n",
       "      <td>0</td>\n",
       "      <td>0</td>\n",
       "      <td>0</td>\n",
       "      <td>0</td>\n",
       "      <td>0</td>\n",
       "      <td>0</td>\n",
       "      <td>0</td>\n",
       "      <td>0</td>\n",
       "      <td>0</td>\n",
       "    </tr>\n",
       "    <tr>\n",
       "      <th>4</th>\n",
       "      <td>Sunday</td>\n",
       "      <td>3.657104e+07</td>\n",
       "      <td>2516603404</td>\n",
       "      <td>77100232</td>\n",
       "      <td>1</td>\n",
       "      <td>0</td>\n",
       "      <td>0</td>\n",
       "      <td>1</td>\n",
       "      <td>0</td>\n",
       "      <td>0</td>\n",
       "      <td>0</td>\n",
       "      <td>0</td>\n",
       "      <td>0</td>\n",
       "      <td>0</td>\n",
       "      <td>0</td>\n",
       "    </tr>\n",
       "  </tbody>\n",
       "</table>\n",
       "</div>"
      ],
      "text/plain": [
       "  event_wday       user_id  session_id  session_duration  is_new_visitor  \\\n",
       "0     Sunday  8.202397e+07  1090192382          16075196               1   \n",
       "1     Sunday  5.021426e+07  9011333152          15868556               1   \n",
       "2     Sunday  7.659669e+06  9613106892          27746287               1   \n",
       "3     Sunday  4.617377e+07  5207106256          33435383               1   \n",
       "4     Sunday  3.657104e+07  2516603404          77100232               1   \n",
       "\n",
       "   account_sign_in  saw_search_results_n  product_list_pageview_n  \\\n",
       "0                0                     0                        1   \n",
       "1                0                     0                        0   \n",
       "2                0                     0                        1   \n",
       "3                1                     0                        0   \n",
       "4                0                     0                        1   \n",
       "\n",
       "   product_pageviews_n  add_to_cart_n  reached_cart_n  start_checkout_n  \\\n",
       "0                    0              0               0                 0   \n",
       "1                    0              0               0                 0   \n",
       "2                    0              0               0                 0   \n",
       "3                    0              0               0                 0   \n",
       "4                    0              0               0                 0   \n",
       "\n",
       "   shipping_stage_completed_n  payment_stage_completed  transactions  \n",
       "0                           0                        0             0  \n",
       "1                           0                        0             0  \n",
       "2                           0                        0             0  \n",
       "3                           0                        0             0  \n",
       "4                           0                        0             0  "
      ]
     },
     "execution_count": 11,
     "metadata": {},
     "output_type": "execute_result"
    }
   ],
   "source": [
    "whole_set = pd.read_csv(\"table_november.csv\")\n",
    "\n",
    "whole_set.head()"
   ]
  },
  {
   "cell_type": "code",
   "execution_count": 80,
   "id": "b4f8b03c",
   "metadata": {},
   "outputs": [
    {
     "data": {
      "text/plain": [
       "360974"
      ]
     },
     "execution_count": 80,
     "metadata": {},
     "output_type": "execute_result"
    }
   ],
   "source": [
    "# Number of rows\n",
    "len(whole_set.index)"
   ]
  },
  {
   "cell_type": "code",
   "execution_count": 81,
   "id": "52ce5be0",
   "metadata": {},
   "outputs": [],
   "source": [
    "train, val, test = np.split(whole_set.sample(frac=1), [int(0.8*len(whole_set)), int(0.9*len(whole_set))])"
   ]
  },
  {
   "cell_type": "code",
   "execution_count": 82,
   "id": "83a76df0",
   "metadata": {},
   "outputs": [
    {
     "name": "stdout",
     "output_type": "stream",
     "text": [
      "288779 training examples\n",
      "36097 validation examples\n",
      "36098 test examples\n"
     ]
    }
   ],
   "source": [
    "print(len(train), 'training examples')\n",
    "print(len(val), 'validation examples')\n",
    "print(len(test), 'test examples')"
   ]
  },
  {
   "cell_type": "code",
   "execution_count": 83,
   "id": "96443d62",
   "metadata": {},
   "outputs": [],
   "source": [
    "def df_to_dataset(dataframe, shuffle=True, batch_size=32):\n",
    "    df = dataframe.copy()\n",
    "    labels = df.pop('transactions')\n",
    "    df = {key: np.asarray(value)[:,tf.newaxis] for key, value in dataframe.items()}\n",
    "    ds = tf.data.Dataset.from_tensor_slices((dict(df), labels))\n",
    "    if shuffle:\n",
    "        ds = ds.shuffle(buffer_size=len(dataframe))\n",
    "    ds = ds.batch(batch_size)\n",
    "    ds = ds.prefetch(batch_size)\n",
    "    return ds"
   ]
  },
  {
   "cell_type": "code",
   "execution_count": 84,
   "id": "08a994a4",
   "metadata": {},
   "outputs": [],
   "source": [
    "batch_size = 5\n",
    "train_ds = df_to_dataset(train, batch_size=batch_size)"
   ]
  },
  {
   "cell_type": "code",
   "execution_count": 85,
   "id": "b78c813a",
   "metadata": {},
   "outputs": [
    {
     "name": "stdout",
     "output_type": "stream",
     "text": [
      "Every feature: ['event_wday', 'user_id', 'session_id', 'session_duration', 'is_new_visitor', 'account_sign_in', 'saw_search_results_n', 'product_list_pageview_n', 'product_pageviews_n', 'add_to_cart_n', 'reached_cart_n', 'start_checkout_n', 'shipping_stage_completed_n', 'payment_stage_completed', 'transactions']\n",
      "A batch of account sign-in: tf.Tensor(\n",
      "[[0]\n",
      " [0]\n",
      " [0]\n",
      " [0]\n",
      " [1]], shape=(5, 1), dtype=int64)\n",
      "A batch of targets: tf.Tensor([0 0 0 0 0], shape=(5,), dtype=int64)\n"
     ]
    }
   ],
   "source": [
    "[(train_features, label_batch)] = train_ds.take(1)\n",
    "print('Every feature:', list(train_features.keys()))\n",
    "print('A batch of account sign-in:', train_features['account_sign_in'])\n",
    "print('A batch of targets:', label_batch)"
   ]
  },
  {
   "cell_type": "code",
   "execution_count": 86,
   "id": "7b5ead4b",
   "metadata": {},
   "outputs": [],
   "source": [
    "def get_normalization_layer(name, dataset):\n",
    "    # Create a Normalization layer for the feature.\n",
    "    normalizer = layers.Normalization(axis=None)\n",
    "\n",
    "    # Prepare a Dataset that only yields the feature.\n",
    "    feature_ds = dataset.map(lambda x, y: x[name])\n",
    "\n",
    "    # Learn the statistics of the data.\n",
    "    normalizer.adapt(feature_ds)\n",
    "\n",
    "    return normalizer"
   ]
  },
  {
   "cell_type": "code",
   "execution_count": 87,
   "id": "45d428c6",
   "metadata": {},
   "outputs": [
    {
     "data": {
      "text/plain": [
       "<tf.Tensor: shape=(5, 1), dtype=float32, numpy=\n",
       "array([[-0.361432  ],\n",
       "       [-0.37743   ],\n",
       "       [-0.35623235],\n",
       "       [-0.3613375 ],\n",
       "       [ 0.08979747]], dtype=float32)>"
      ]
     },
     "execution_count": 87,
     "metadata": {},
     "output_type": "execute_result"
    }
   ],
   "source": [
    "duration = train_features['session_duration']\n",
    "layer = get_normalization_layer('session_duration', train_ds)\n",
    "layer(duration)"
   ]
  },
  {
   "cell_type": "code",
   "execution_count": 88,
   "id": "0c9e2da6",
   "metadata": {},
   "outputs": [],
   "source": [
    "def get_category_encoding_layer(name, dataset, dtype, max_tokens=None):\n",
    "    # Create a layer that turns strings into integer indices.\n",
    "    if dtype == 'string':\n",
    "        index = layers.StringLookup(max_tokens=max_tokens)\n",
    "    # Otherwise, create a layer that turns integer values into integer indices.\n",
    "    else:\n",
    "        index = layers.IntegerLookup(max_tokens=max_tokens)\n",
    "\n",
    "    # Prepare a `tf.data.Dataset` that only yields the feature.\n",
    "    feature_ds = dataset.map(lambda x, y: x[name])\n",
    "\n",
    "    # Learn the set of possible values and assign them a fixed integer index.\n",
    "    index.adapt(feature_ds)\n",
    "\n",
    "    # Encode the integer indices.\n",
    "    encoder = layers.CategoryEncoding(num_tokens=index.vocabulary_size())\n",
    "\n",
    "    # Apply multi-hot encoding to the indices. The lambda function captures the\n",
    "    # layer, so you can use them, or include them in the Keras Functional model later.\n",
    "    return lambda feature: encoder(index(feature))"
   ]
  },
  {
   "cell_type": "code",
   "execution_count": 89,
   "id": "d6a34714",
   "metadata": {},
   "outputs": [
    {
     "data": {
      "text/plain": [
       "<tf.Tensor: shape=(5, 8), dtype=float32, numpy=\n",
       "array([[0., 0., 0., 0., 0., 0., 0., 1.],\n",
       "       [0., 0., 0., 1., 0., 0., 0., 0.],\n",
       "       [0., 0., 0., 0., 1., 0., 0., 0.],\n",
       "       [0., 0., 1., 0., 0., 0., 0., 0.],\n",
       "       [0., 0., 0., 1., 0., 0., 0., 0.]], dtype=float32)>"
      ]
     },
     "execution_count": 89,
     "metadata": {},
     "output_type": "execute_result"
    }
   ],
   "source": [
    "test_event_wday = train_features['event_wday']\n",
    "test_event_wday_layer = get_category_encoding_layer(name='event_wday',\n",
    "                                              dataset=train_ds,\n",
    "                                              dtype='string')\n",
    "test_event_wday_layer(test_event_wday)"
   ]
  },
  {
   "cell_type": "code",
   "execution_count": 144,
   "id": "0185ee0c",
   "metadata": {},
   "outputs": [],
   "source": [
    "batch_size = 256\n",
    "train_ds = df_to_dataset(train, batch_size=batch_size)\n",
    "val_ds = df_to_dataset(val, shuffle=False, batch_size=batch_size)\n",
    "test_ds = df_to_dataset(test, shuffle=False, batch_size=batch_size)"
   ]
  },
  {
   "cell_type": "code",
   "execution_count": 145,
   "id": "4909a544",
   "metadata": {},
   "outputs": [],
   "source": [
    "all_inputs = []\n",
    "encoded_features = []\n",
    "\n",
    "# Numerical features.\n",
    "for header in ['session_duration']:\n",
    "    numeric_col = tf.keras.Input(shape=(1,), name=header)\n",
    "    normalization_layer = get_normalization_layer(header, train_ds)\n",
    "    encoded_numeric_col = normalization_layer(numeric_col)\n",
    "    all_inputs.append(numeric_col)\n",
    "    encoded_features.append(encoded_numeric_col)"
   ]
  },
  {
   "cell_type": "code",
   "execution_count": 146,
   "id": "8e2d254a",
   "metadata": {},
   "outputs": [],
   "source": [
    "categorical_cols = ['event_wday']\n",
    "\n",
    "for header in categorical_cols:\n",
    "    categorical_col = tf.keras.Input(shape=(1,), name=header, dtype='string')\n",
    "    encoding_layer = get_category_encoding_layer(name=header,\n",
    "                                               dataset=train_ds,\n",
    "                                               dtype='string',\n",
    "                                               max_tokens=7)\n",
    "    encoded_categorical_col = encoding_layer(categorical_col)\n",
    "    all_inputs.append(categorical_col)\n",
    "    encoded_features.append(encoded_categorical_col)"
   ]
  },
  {
   "cell_type": "code",
   "execution_count": 148,
   "id": "0c66ff1c",
   "metadata": {},
   "outputs": [],
   "source": [
    "binary_cols = ['is_new_visitor', 'account_sign_in', 'saw_search_results_n', 'product_list_pageview_n', 'product_pageviews_n', 'add_to_cart_n', 'reached_cart_n', 'start_checkout_n', 'shipping_stage_completed_n', 'payment_stage_completed']\n",
    "\n",
    "for header in binary_cols:\n",
    "    binary_cols = tf.keras.Input(shape=(1,), name=header, dtype='int32')\n",
    "    encoding_layer = get_category_encoding_layer(name=header,\n",
    "                                               dataset=train_ds,\n",
    "                                               dtype='int32',\n",
    "                                               max_tokens=2)\n",
    "    encoded_categorical_col = encoding_layer(binary_cols)\n",
    "    all_inputs.append(binary_cols)\n",
    "    encoded_features.append(encoded_categorical_col)"
   ]
  },
  {
   "cell_type": "code",
   "execution_count": 208,
   "id": "86e5d7ee",
   "metadata": {},
   "outputs": [
    {
     "data": {
      "text/plain": [
       "[<KerasTensor: shape=(None, 1) dtype=float32 (created by layer 'normalization_9')>,\n",
       " <KerasTensor: shape=(None, 7) dtype=float32 (created by layer 'category_encoding_62')>,\n",
       " <KerasTensor: shape=(None, 2) dtype=float32 (created by layer 'category_encoding_63')>,\n",
       " <KerasTensor: shape=(None, 2) dtype=float32 (created by layer 'category_encoding_64')>,\n",
       " <KerasTensor: shape=(None, 2) dtype=float32 (created by layer 'category_encoding_65')>,\n",
       " <KerasTensor: shape=(None, 2) dtype=float32 (created by layer 'category_encoding_66')>,\n",
       " <KerasTensor: shape=(None, 2) dtype=float32 (created by layer 'category_encoding_67')>,\n",
       " <KerasTensor: shape=(None, 2) dtype=float32 (created by layer 'category_encoding_68')>,\n",
       " <KerasTensor: shape=(None, 2) dtype=float32 (created by layer 'category_encoding_69')>,\n",
       " <KerasTensor: shape=(None, 2) dtype=float32 (created by layer 'category_encoding_70')>,\n",
       " <KerasTensor: shape=(None, 2) dtype=float32 (created by layer 'category_encoding_71')>,\n",
       " <KerasTensor: shape=(None, 2) dtype=float32 (created by layer 'category_encoding_72')>]"
      ]
     },
     "execution_count": 208,
     "metadata": {},
     "output_type": "execute_result"
    }
   ],
   "source": [
    "encoded_features"
   ]
  },
  {
   "cell_type": "code",
   "execution_count": 222,
   "id": "c45de368",
   "metadata": {},
   "outputs": [
    {
     "data": {
      "text/plain": [
       "<PrefetchDataset element_spec=({'event_wday': TensorSpec(shape=(None, 1), dtype=tf.string, name=None), 'user_id': TensorSpec(shape=(None, 1), dtype=tf.float64, name=None), 'session_id': TensorSpec(shape=(None, 1), dtype=tf.int64, name=None), 'session_duration': TensorSpec(shape=(None, 1), dtype=tf.int64, name=None), 'is_new_visitor': TensorSpec(shape=(None, 1), dtype=tf.int64, name=None), 'account_sign_in': TensorSpec(shape=(None, 1), dtype=tf.int64, name=None), 'saw_search_results_n': TensorSpec(shape=(None, 1), dtype=tf.int64, name=None), 'product_list_pageview_n': TensorSpec(shape=(None, 1), dtype=tf.int64, name=None), 'product_pageviews_n': TensorSpec(shape=(None, 1), dtype=tf.int64, name=None), 'add_to_cart_n': TensorSpec(shape=(None, 1), dtype=tf.int64, name=None), 'reached_cart_n': TensorSpec(shape=(None, 1), dtype=tf.int64, name=None), 'start_checkout_n': TensorSpec(shape=(None, 1), dtype=tf.int64, name=None), 'shipping_stage_completed_n': TensorSpec(shape=(None, 1), dtype=tf.int64, name=None), 'payment_stage_completed': TensorSpec(shape=(None, 1), dtype=tf.int64, name=None), 'transactions': TensorSpec(shape=(None, 1), dtype=tf.int64, name=None)}, TensorSpec(shape=(None,), dtype=tf.int64, name=None))>"
      ]
     },
     "execution_count": 222,
     "metadata": {},
     "output_type": "execute_result"
    }
   ],
   "source": [
    "test_ds"
   ]
  },
  {
   "cell_type": "code",
   "execution_count": 154,
   "id": "d6fc20ec",
   "metadata": {},
   "outputs": [
    {
     "name": "stdout",
     "output_type": "stream",
     "text": [
      "142/142 [==============================] - 0s 2ms/step - loss: 0.0115 - accuracy: 0.9939\n",
      "Accuracy 0.9939054846763611\n"
     ]
    }
   ],
   "source": [
    "loss, accuracy = model.evaluate(test_ds)\n",
    "print(\"Accuracy\", accuracy)"
   ]
  },
  {
   "cell_type": "code",
   "execution_count": 192,
   "id": "c9cb79f4",
   "metadata": {},
   "outputs": [
    {
     "name": "stdout",
     "output_type": "stream",
     "text": [
      "142/142 [==============================] - 0s 2ms/step\n"
     ]
    }
   ],
   "source": [
    "a = model.predict(test_ds)"
   ]
  },
  {
   "cell_type": "code",
   "execution_count": 193,
   "id": "cf00bee1",
   "metadata": {},
   "outputs": [
    {
     "data": {
      "text/plain": [
       "array([[-15.088604],\n",
       "       [-16.739521],\n",
       "       [-16.46595 ],\n",
       "       ...,\n",
       "       [-19.319647],\n",
       "       [-17.611403],\n",
       "       [-18.234976]], dtype=float32)"
      ]
     },
     "execution_count": 193,
     "metadata": {},
     "output_type": "execute_result"
    }
   ],
   "source": [
    "a"
   ]
  },
  {
   "cell_type": "code",
   "execution_count": 194,
   "id": "0295fd85",
   "metadata": {},
   "outputs": [],
   "source": [
    "a = [0 if a_ <= 0 else 1 for a_ in a]"
   ]
  },
  {
   "cell_type": "code",
   "execution_count": 191,
   "id": "00bf7687",
   "metadata": {
    "scrolled": true
   },
   "outputs": [
    {
     "data": {
      "text/plain": [
       "241532    0\n",
       "94020     0\n",
       "166358    0\n",
       "51929     0\n",
       "269019    0\n",
       "         ..\n",
       "60994     0\n",
       "111224    0\n",
       "173100    0\n",
       "285336    0\n",
       "247608    0\n",
       "Name: transactions, Length: 36098, dtype: int64"
      ]
     },
     "execution_count": 191,
     "metadata": {},
     "output_type": "execute_result"
    }
   ],
   "source": [
    "test[\"transactions\"]"
   ]
  },
  {
   "cell_type": "code",
   "execution_count": 201,
   "id": "dffd091d",
   "metadata": {},
   "outputs": [],
   "source": [
    "b = test[\"transactions\"].values"
   ]
  },
  {
   "cell_type": "code",
   "execution_count": 202,
   "id": "2c2c7c24",
   "metadata": {},
   "outputs": [
    {
     "data": {
      "text/plain": [
       "0.713855421686747"
      ]
     },
     "execution_count": 202,
     "metadata": {},
     "output_type": "execute_result"
    }
   ],
   "source": [
    "# Precision\n",
    "top = 0\n",
    "bottom = 0\n",
    "for i in range(36098):\n",
    "    if a[i] == 1 and b[i] == 1:\n",
    "        top += 1\n",
    "        bottom += 1\n",
    "    if a[i] == 1 and b[i] == 0:\n",
    "        bottom += 1\n",
    "top/bottom"
   ]
  },
  {
   "cell_type": "code",
   "execution_count": 203,
   "id": "eeaeb47b",
   "metadata": {},
   "outputs": [
    {
     "data": {
      "text/plain": [
       "0.9916317991631799"
      ]
     },
     "execution_count": 203,
     "metadata": {},
     "output_type": "execute_result"
    }
   ],
   "source": [
    "# Recall\n",
    "top/sum(b)"
   ]
  },
  {
   "cell_type": "code",
   "execution_count": 159,
   "id": "50ad288e",
   "metadata": {},
   "outputs": [
    {
     "name": "stdout",
     "output_type": "stream",
     "text": [
      "WARNING:tensorflow:AutoGraph could not transform <function canonicalize_signatures.<locals>.signature_wrapper at 0x0000026198F86040> and will run it as-is.\n",
      "Cause: Unable to locate the source code of <function canonicalize_signatures.<locals>.signature_wrapper at 0x0000026198F86040>. Note that functions defined in certain environments, like the interactive Python shell, do not expose their source code. If that is the case, you should define them in a .py source file. If you are certain the code is graph-compatible, wrap the call using @tf.autograph.experimental.do_not_convert. Original error: could not get source code\n",
      "To silence this warning, decorate the function with @tf.autograph.experimental.do_not_convert\n",
      "WARNING: AutoGraph could not transform <function canonicalize_signatures.<locals>.signature_wrapper at 0x0000026198F86040> and will run it as-is.\n",
      "Cause: Unable to locate the source code of <function canonicalize_signatures.<locals>.signature_wrapper at 0x0000026198F86040>. Note that functions defined in certain environments, like the interactive Python shell, do not expose their source code. If that is the case, you should define them in a .py source file. If you are certain the code is graph-compatible, wrap the call using @tf.autograph.experimental.do_not_convert. Original error: could not get source code\n",
      "To silence this warning, decorate the function with @tf.autograph.experimental.do_not_convert\n",
      "WARNING:tensorflow:AutoGraph could not transform <function trace_save_restore_functions.<locals>.save_fn at 0x000002626AA32820> and will run it as-is.\n",
      "Cause: Unable to locate the source code of <function trace_save_restore_functions.<locals>.save_fn at 0x000002626AA32820>. Note that functions defined in certain environments, like the interactive Python shell, do not expose their source code. If that is the case, you should define them in a .py source file. If you are certain the code is graph-compatible, wrap the call using @tf.autograph.experimental.do_not_convert. Original error: could not get source code\n",
      "To silence this warning, decorate the function with @tf.autograph.experimental.do_not_convert\n",
      "WARNING: AutoGraph could not transform <function trace_save_restore_functions.<locals>.save_fn at 0x000002626AA32820> and will run it as-is.\n",
      "Cause: Unable to locate the source code of <function trace_save_restore_functions.<locals>.save_fn at 0x000002626AA32820>. Note that functions defined in certain environments, like the interactive Python shell, do not expose their source code. If that is the case, you should define them in a .py source file. If you are certain the code is graph-compatible, wrap the call using @tf.autograph.experimental.do_not_convert. Original error: could not get source code\n",
      "To silence this warning, decorate the function with @tf.autograph.experimental.do_not_convert\n",
      "WARNING:tensorflow:AutoGraph could not transform <function trace_save_restore_functions.<locals>.restore_fn at 0x000002626AA32D30> and will run it as-is.\n",
      "Cause: Unable to locate the source code of <function trace_save_restore_functions.<locals>.restore_fn at 0x000002626AA32D30>. Note that functions defined in certain environments, like the interactive Python shell, do not expose their source code. If that is the case, you should define them in a .py source file. If you are certain the code is graph-compatible, wrap the call using @tf.autograph.experimental.do_not_convert. Original error: could not get source code\n",
      "To silence this warning, decorate the function with @tf.autograph.experimental.do_not_convert\n",
      "WARNING: AutoGraph could not transform <function trace_save_restore_functions.<locals>.restore_fn at 0x000002626AA32D30> and will run it as-is.\n",
      "Cause: Unable to locate the source code of <function trace_save_restore_functions.<locals>.restore_fn at 0x000002626AA32D30>. Note that functions defined in certain environments, like the interactive Python shell, do not expose their source code. If that is the case, you should define them in a .py source file. If you are certain the code is graph-compatible, wrap the call using @tf.autograph.experimental.do_not_convert. Original error: could not get source code\n",
      "To silence this warning, decorate the function with @tf.autograph.experimental.do_not_convert\n",
      "WARNING:tensorflow:AutoGraph could not transform <function trace_save_restore_functions.<locals>.save_fn at 0x000002626AA32CA0> and will run it as-is.\n",
      "Cause: Unable to locate the source code of <function trace_save_restore_functions.<locals>.save_fn at 0x000002626AA32CA0>. Note that functions defined in certain environments, like the interactive Python shell, do not expose their source code. If that is the case, you should define them in a .py source file. If you are certain the code is graph-compatible, wrap the call using @tf.autograph.experimental.do_not_convert. Original error: could not get source code\n",
      "To silence this warning, decorate the function with @tf.autograph.experimental.do_not_convert\n",
      "WARNING: AutoGraph could not transform <function trace_save_restore_functions.<locals>.save_fn at 0x000002626AA32CA0> and will run it as-is.\n",
      "Cause: Unable to locate the source code of <function trace_save_restore_functions.<locals>.save_fn at 0x000002626AA32CA0>. Note that functions defined in certain environments, like the interactive Python shell, do not expose their source code. If that is the case, you should define them in a .py source file. If you are certain the code is graph-compatible, wrap the call using @tf.autograph.experimental.do_not_convert. Original error: could not get source code\n",
      "To silence this warning, decorate the function with @tf.autograph.experimental.do_not_convert\n",
      "WARNING:tensorflow:AutoGraph could not transform <function trace_save_restore_functions.<locals>.restore_fn at 0x000002626AA329D0> and will run it as-is.\n",
      "Cause: Unable to locate the source code of <function trace_save_restore_functions.<locals>.restore_fn at 0x000002626AA329D0>. Note that functions defined in certain environments, like the interactive Python shell, do not expose their source code. If that is the case, you should define them in a .py source file. If you are certain the code is graph-compatible, wrap the call using @tf.autograph.experimental.do_not_convert. Original error: could not get source code\n",
      "To silence this warning, decorate the function with @tf.autograph.experimental.do_not_convert\n",
      "WARNING: AutoGraph could not transform <function trace_save_restore_functions.<locals>.restore_fn at 0x000002626AA329D0> and will run it as-is.\n",
      "Cause: Unable to locate the source code of <function trace_save_restore_functions.<locals>.restore_fn at 0x000002626AA329D0>. Note that functions defined in certain environments, like the interactive Python shell, do not expose their source code. If that is the case, you should define them in a .py source file. If you are certain the code is graph-compatible, wrap the call using @tf.autograph.experimental.do_not_convert. Original error: could not get source code\n",
      "To silence this warning, decorate the function with @tf.autograph.experimental.do_not_convert\n",
      "WARNING:tensorflow:AutoGraph could not transform <function trace_save_restore_functions.<locals>.save_fn at 0x000002626AA329D0> and will run it as-is.\n",
      "Cause: Unable to locate the source code of <function trace_save_restore_functions.<locals>.save_fn at 0x000002626AA329D0>. Note that functions defined in certain environments, like the interactive Python shell, do not expose their source code. If that is the case, you should define them in a .py source file. If you are certain the code is graph-compatible, wrap the call using @tf.autograph.experimental.do_not_convert. Original error: could not get source code\n",
      "To silence this warning, decorate the function with @tf.autograph.experimental.do_not_convert\n",
      "WARNING: AutoGraph could not transform <function trace_save_restore_functions.<locals>.save_fn at 0x000002626AA329D0> and will run it as-is.\n",
      "Cause: Unable to locate the source code of <function trace_save_restore_functions.<locals>.save_fn at 0x000002626AA329D0>. Note that functions defined in certain environments, like the interactive Python shell, do not expose their source code. If that is the case, you should define them in a .py source file. If you are certain the code is graph-compatible, wrap the call using @tf.autograph.experimental.do_not_convert. Original error: could not get source code\n",
      "To silence this warning, decorate the function with @tf.autograph.experimental.do_not_convert\n"
     ]
    },
    {
     "name": "stdout",
     "output_type": "stream",
     "text": [
      "WARNING:tensorflow:AutoGraph could not transform <function trace_save_restore_functions.<locals>.restore_fn at 0x000002626AA32C10> and will run it as-is.\n",
      "Cause: Unable to locate the source code of <function trace_save_restore_functions.<locals>.restore_fn at 0x000002626AA32C10>. Note that functions defined in certain environments, like the interactive Python shell, do not expose their source code. If that is the case, you should define them in a .py source file. If you are certain the code is graph-compatible, wrap the call using @tf.autograph.experimental.do_not_convert. Original error: could not get source code\n",
      "To silence this warning, decorate the function with @tf.autograph.experimental.do_not_convert\n",
      "WARNING: AutoGraph could not transform <function trace_save_restore_functions.<locals>.restore_fn at 0x000002626AA32C10> and will run it as-is.\n",
      "Cause: Unable to locate the source code of <function trace_save_restore_functions.<locals>.restore_fn at 0x000002626AA32C10>. Note that functions defined in certain environments, like the interactive Python shell, do not expose their source code. If that is the case, you should define them in a .py source file. If you are certain the code is graph-compatible, wrap the call using @tf.autograph.experimental.do_not_convert. Original error: could not get source code\n",
      "To silence this warning, decorate the function with @tf.autograph.experimental.do_not_convert\n",
      "WARNING:tensorflow:AutoGraph could not transform <function trace_save_restore_functions.<locals>.save_fn at 0x000002626AA32C10> and will run it as-is.\n",
      "Cause: Unable to locate the source code of <function trace_save_restore_functions.<locals>.save_fn at 0x000002626AA32C10>. Note that functions defined in certain environments, like the interactive Python shell, do not expose their source code. If that is the case, you should define them in a .py source file. If you are certain the code is graph-compatible, wrap the call using @tf.autograph.experimental.do_not_convert. Original error: could not get source code\n",
      "To silence this warning, decorate the function with @tf.autograph.experimental.do_not_convert\n",
      "WARNING: AutoGraph could not transform <function trace_save_restore_functions.<locals>.save_fn at 0x000002626AA32C10> and will run it as-is.\n",
      "Cause: Unable to locate the source code of <function trace_save_restore_functions.<locals>.save_fn at 0x000002626AA32C10>. Note that functions defined in certain environments, like the interactive Python shell, do not expose their source code. If that is the case, you should define them in a .py source file. If you are certain the code is graph-compatible, wrap the call using @tf.autograph.experimental.do_not_convert. Original error: could not get source code\n",
      "To silence this warning, decorate the function with @tf.autograph.experimental.do_not_convert\n",
      "WARNING:tensorflow:AutoGraph could not transform <function trace_save_restore_functions.<locals>.restore_fn at 0x000002626AA32EE0> and will run it as-is.\n",
      "Cause: Unable to locate the source code of <function trace_save_restore_functions.<locals>.restore_fn at 0x000002626AA32EE0>. Note that functions defined in certain environments, like the interactive Python shell, do not expose their source code. If that is the case, you should define them in a .py source file. If you are certain the code is graph-compatible, wrap the call using @tf.autograph.experimental.do_not_convert. Original error: could not get source code\n",
      "To silence this warning, decorate the function with @tf.autograph.experimental.do_not_convert\n",
      "WARNING: AutoGraph could not transform <function trace_save_restore_functions.<locals>.restore_fn at 0x000002626AA32EE0> and will run it as-is.\n",
      "Cause: Unable to locate the source code of <function trace_save_restore_functions.<locals>.restore_fn at 0x000002626AA32EE0>. Note that functions defined in certain environments, like the interactive Python shell, do not expose their source code. If that is the case, you should define them in a .py source file. If you are certain the code is graph-compatible, wrap the call using @tf.autograph.experimental.do_not_convert. Original error: could not get source code\n",
      "To silence this warning, decorate the function with @tf.autograph.experimental.do_not_convert\n",
      "WARNING:tensorflow:AutoGraph could not transform <function trace_save_restore_functions.<locals>.save_fn at 0x000002626AA32EE0> and will run it as-is.\n",
      "Cause: Unable to locate the source code of <function trace_save_restore_functions.<locals>.save_fn at 0x000002626AA32EE0>. Note that functions defined in certain environments, like the interactive Python shell, do not expose their source code. If that is the case, you should define them in a .py source file. If you are certain the code is graph-compatible, wrap the call using @tf.autograph.experimental.do_not_convert. Original error: could not get source code\n",
      "To silence this warning, decorate the function with @tf.autograph.experimental.do_not_convert\n",
      "WARNING: AutoGraph could not transform <function trace_save_restore_functions.<locals>.save_fn at 0x000002626AA32EE0> and will run it as-is.\n",
      "Cause: Unable to locate the source code of <function trace_save_restore_functions.<locals>.save_fn at 0x000002626AA32EE0>. Note that functions defined in certain environments, like the interactive Python shell, do not expose their source code. If that is the case, you should define them in a .py source file. If you are certain the code is graph-compatible, wrap the call using @tf.autograph.experimental.do_not_convert. Original error: could not get source code\n",
      "To silence this warning, decorate the function with @tf.autograph.experimental.do_not_convert\n",
      "WARNING:tensorflow:AutoGraph could not transform <function trace_save_restore_functions.<locals>.restore_fn at 0x000002626AA32C10> and will run it as-is.\n",
      "Cause: Unable to locate the source code of <function trace_save_restore_functions.<locals>.restore_fn at 0x000002626AA32C10>. Note that functions defined in certain environments, like the interactive Python shell, do not expose their source code. If that is the case, you should define them in a .py source file. If you are certain the code is graph-compatible, wrap the call using @tf.autograph.experimental.do_not_convert. Original error: could not get source code\n",
      "To silence this warning, decorate the function with @tf.autograph.experimental.do_not_convert\n",
      "WARNING: AutoGraph could not transform <function trace_save_restore_functions.<locals>.restore_fn at 0x000002626AA32C10> and will run it as-is.\n",
      "Cause: Unable to locate the source code of <function trace_save_restore_functions.<locals>.restore_fn at 0x000002626AA32C10>. Note that functions defined in certain environments, like the interactive Python shell, do not expose their source code. If that is the case, you should define them in a .py source file. If you are certain the code is graph-compatible, wrap the call using @tf.autograph.experimental.do_not_convert. Original error: could not get source code\n",
      "To silence this warning, decorate the function with @tf.autograph.experimental.do_not_convert\n",
      "WARNING:tensorflow:AutoGraph could not transform <function trace_save_restore_functions.<locals>.save_fn at 0x000002626AA32C10> and will run it as-is.\n",
      "Cause: Unable to locate the source code of <function trace_save_restore_functions.<locals>.save_fn at 0x000002626AA32C10>. Note that functions defined in certain environments, like the interactive Python shell, do not expose their source code. If that is the case, you should define them in a .py source file. If you are certain the code is graph-compatible, wrap the call using @tf.autograph.experimental.do_not_convert. Original error: could not get source code\n",
      "To silence this warning, decorate the function with @tf.autograph.experimental.do_not_convert\n",
      "WARNING: AutoGraph could not transform <function trace_save_restore_functions.<locals>.save_fn at 0x000002626AA32C10> and will run it as-is.\n",
      "Cause: Unable to locate the source code of <function trace_save_restore_functions.<locals>.save_fn at 0x000002626AA32C10>. Note that functions defined in certain environments, like the interactive Python shell, do not expose their source code. If that is the case, you should define them in a .py source file. If you are certain the code is graph-compatible, wrap the call using @tf.autograph.experimental.do_not_convert. Original error: could not get source code\n",
      "To silence this warning, decorate the function with @tf.autograph.experimental.do_not_convert\n"
     ]
    },
    {
     "name": "stdout",
     "output_type": "stream",
     "text": [
      "WARNING:tensorflow:AutoGraph could not transform <function trace_save_restore_functions.<locals>.restore_fn at 0x000002626AA32CA0> and will run it as-is.\n",
      "Cause: Unable to locate the source code of <function trace_save_restore_functions.<locals>.restore_fn at 0x000002626AA32CA0>. Note that functions defined in certain environments, like the interactive Python shell, do not expose their source code. If that is the case, you should define them in a .py source file. If you are certain the code is graph-compatible, wrap the call using @tf.autograph.experimental.do_not_convert. Original error: could not get source code\n",
      "To silence this warning, decorate the function with @tf.autograph.experimental.do_not_convert\n",
      "WARNING: AutoGraph could not transform <function trace_save_restore_functions.<locals>.restore_fn at 0x000002626AA32CA0> and will run it as-is.\n",
      "Cause: Unable to locate the source code of <function trace_save_restore_functions.<locals>.restore_fn at 0x000002626AA32CA0>. Note that functions defined in certain environments, like the interactive Python shell, do not expose their source code. If that is the case, you should define them in a .py source file. If you are certain the code is graph-compatible, wrap the call using @tf.autograph.experimental.do_not_convert. Original error: could not get source code\n",
      "To silence this warning, decorate the function with @tf.autograph.experimental.do_not_convert\n",
      "WARNING:tensorflow:AutoGraph could not transform <function trace_save_restore_functions.<locals>.save_fn at 0x000002626AA32CA0> and will run it as-is.\n",
      "Cause: Unable to locate the source code of <function trace_save_restore_functions.<locals>.save_fn at 0x000002626AA32CA0>. Note that functions defined in certain environments, like the interactive Python shell, do not expose their source code. If that is the case, you should define them in a .py source file. If you are certain the code is graph-compatible, wrap the call using @tf.autograph.experimental.do_not_convert. Original error: could not get source code\n",
      "To silence this warning, decorate the function with @tf.autograph.experimental.do_not_convert\n",
      "WARNING: AutoGraph could not transform <function trace_save_restore_functions.<locals>.save_fn at 0x000002626AA32CA0> and will run it as-is.\n",
      "Cause: Unable to locate the source code of <function trace_save_restore_functions.<locals>.save_fn at 0x000002626AA32CA0>. Note that functions defined in certain environments, like the interactive Python shell, do not expose their source code. If that is the case, you should define them in a .py source file. If you are certain the code is graph-compatible, wrap the call using @tf.autograph.experimental.do_not_convert. Original error: could not get source code\n",
      "To silence this warning, decorate the function with @tf.autograph.experimental.do_not_convert\n",
      "WARNING:tensorflow:AutoGraph could not transform <function trace_save_restore_functions.<locals>.restore_fn at 0x000002626AA32EE0> and will run it as-is.\n",
      "Cause: Unable to locate the source code of <function trace_save_restore_functions.<locals>.restore_fn at 0x000002626AA32EE0>. Note that functions defined in certain environments, like the interactive Python shell, do not expose their source code. If that is the case, you should define them in a .py source file. If you are certain the code is graph-compatible, wrap the call using @tf.autograph.experimental.do_not_convert. Original error: could not get source code\n",
      "To silence this warning, decorate the function with @tf.autograph.experimental.do_not_convert\n",
      "WARNING: AutoGraph could not transform <function trace_save_restore_functions.<locals>.restore_fn at 0x000002626AA32EE0> and will run it as-is.\n",
      "Cause: Unable to locate the source code of <function trace_save_restore_functions.<locals>.restore_fn at 0x000002626AA32EE0>. Note that functions defined in certain environments, like the interactive Python shell, do not expose their source code. If that is the case, you should define them in a .py source file. If you are certain the code is graph-compatible, wrap the call using @tf.autograph.experimental.do_not_convert. Original error: could not get source code\n",
      "To silence this warning, decorate the function with @tf.autograph.experimental.do_not_convert\n",
      "WARNING:tensorflow:AutoGraph could not transform <function trace_save_restore_functions.<locals>.save_fn at 0x000002626AA32EE0> and will run it as-is.\n",
      "Cause: Unable to locate the source code of <function trace_save_restore_functions.<locals>.save_fn at 0x000002626AA32EE0>. Note that functions defined in certain environments, like the interactive Python shell, do not expose their source code. If that is the case, you should define them in a .py source file. If you are certain the code is graph-compatible, wrap the call using @tf.autograph.experimental.do_not_convert. Original error: could not get source code\n",
      "To silence this warning, decorate the function with @tf.autograph.experimental.do_not_convert\n",
      "WARNING: AutoGraph could not transform <function trace_save_restore_functions.<locals>.save_fn at 0x000002626AA32EE0> and will run it as-is.\n",
      "Cause: Unable to locate the source code of <function trace_save_restore_functions.<locals>.save_fn at 0x000002626AA32EE0>. Note that functions defined in certain environments, like the interactive Python shell, do not expose their source code. If that is the case, you should define them in a .py source file. If you are certain the code is graph-compatible, wrap the call using @tf.autograph.experimental.do_not_convert. Original error: could not get source code\n",
      "To silence this warning, decorate the function with @tf.autograph.experimental.do_not_convert\n",
      "WARNING:tensorflow:AutoGraph could not transform <function trace_save_restore_functions.<locals>.restore_fn at 0x000002626AA32DC0> and will run it as-is.\n",
      "Cause: Unable to locate the source code of <function trace_save_restore_functions.<locals>.restore_fn at 0x000002626AA32DC0>. Note that functions defined in certain environments, like the interactive Python shell, do not expose their source code. If that is the case, you should define them in a .py source file. If you are certain the code is graph-compatible, wrap the call using @tf.autograph.experimental.do_not_convert. Original error: could not get source code\n",
      "To silence this warning, decorate the function with @tf.autograph.experimental.do_not_convert\n",
      "WARNING: AutoGraph could not transform <function trace_save_restore_functions.<locals>.restore_fn at 0x000002626AA32DC0> and will run it as-is.\n",
      "Cause: Unable to locate the source code of <function trace_save_restore_functions.<locals>.restore_fn at 0x000002626AA32DC0>. Note that functions defined in certain environments, like the interactive Python shell, do not expose their source code. If that is the case, you should define them in a .py source file. If you are certain the code is graph-compatible, wrap the call using @tf.autograph.experimental.do_not_convert. Original error: could not get source code\n",
      "To silence this warning, decorate the function with @tf.autograph.experimental.do_not_convert\n",
      "WARNING:tensorflow:AutoGraph could not transform <function trace_save_restore_functions.<locals>.save_fn at 0x000002626AA32DC0> and will run it as-is.\n",
      "Cause: Unable to locate the source code of <function trace_save_restore_functions.<locals>.save_fn at 0x000002626AA32DC0>. Note that functions defined in certain environments, like the interactive Python shell, do not expose their source code. If that is the case, you should define them in a .py source file. If you are certain the code is graph-compatible, wrap the call using @tf.autograph.experimental.do_not_convert. Original error: could not get source code\n",
      "To silence this warning, decorate the function with @tf.autograph.experimental.do_not_convert\n",
      "WARNING: AutoGraph could not transform <function trace_save_restore_functions.<locals>.save_fn at 0x000002626AA32DC0> and will run it as-is.\n",
      "Cause: Unable to locate the source code of <function trace_save_restore_functions.<locals>.save_fn at 0x000002626AA32DC0>. Note that functions defined in certain environments, like the interactive Python shell, do not expose their source code. If that is the case, you should define them in a .py source file. If you are certain the code is graph-compatible, wrap the call using @tf.autograph.experimental.do_not_convert. Original error: could not get source code\n",
      "To silence this warning, decorate the function with @tf.autograph.experimental.do_not_convert\n"
     ]
    },
    {
     "name": "stdout",
     "output_type": "stream",
     "text": [
      "WARNING:tensorflow:AutoGraph could not transform <function trace_save_restore_functions.<locals>.restore_fn at 0x000002626AA32E50> and will run it as-is.\n",
      "Cause: Unable to locate the source code of <function trace_save_restore_functions.<locals>.restore_fn at 0x000002626AA32E50>. Note that functions defined in certain environments, like the interactive Python shell, do not expose their source code. If that is the case, you should define them in a .py source file. If you are certain the code is graph-compatible, wrap the call using @tf.autograph.experimental.do_not_convert. Original error: could not get source code\n",
      "To silence this warning, decorate the function with @tf.autograph.experimental.do_not_convert\n",
      "WARNING: AutoGraph could not transform <function trace_save_restore_functions.<locals>.restore_fn at 0x000002626AA32E50> and will run it as-is.\n",
      "Cause: Unable to locate the source code of <function trace_save_restore_functions.<locals>.restore_fn at 0x000002626AA32E50>. Note that functions defined in certain environments, like the interactive Python shell, do not expose their source code. If that is the case, you should define them in a .py source file. If you are certain the code is graph-compatible, wrap the call using @tf.autograph.experimental.do_not_convert. Original error: could not get source code\n",
      "To silence this warning, decorate the function with @tf.autograph.experimental.do_not_convert\n",
      "WARNING:tensorflow:AutoGraph could not transform <function trace_save_restore_functions.<locals>.save_fn at 0x000002626AA32E50> and will run it as-is.\n",
      "Cause: Unable to locate the source code of <function trace_save_restore_functions.<locals>.save_fn at 0x000002626AA32E50>. Note that functions defined in certain environments, like the interactive Python shell, do not expose their source code. If that is the case, you should define them in a .py source file. If you are certain the code is graph-compatible, wrap the call using @tf.autograph.experimental.do_not_convert. Original error: could not get source code\n",
      "To silence this warning, decorate the function with @tf.autograph.experimental.do_not_convert\n",
      "WARNING: AutoGraph could not transform <function trace_save_restore_functions.<locals>.save_fn at 0x000002626AA32E50> and will run it as-is.\n",
      "Cause: Unable to locate the source code of <function trace_save_restore_functions.<locals>.save_fn at 0x000002626AA32E50>. Note that functions defined in certain environments, like the interactive Python shell, do not expose their source code. If that is the case, you should define them in a .py source file. If you are certain the code is graph-compatible, wrap the call using @tf.autograph.experimental.do_not_convert. Original error: could not get source code\n",
      "To silence this warning, decorate the function with @tf.autograph.experimental.do_not_convert\n",
      "WARNING:tensorflow:AutoGraph could not transform <function trace_save_restore_functions.<locals>.restore_fn at 0x000002626AA329D0> and will run it as-is.\n",
      "Cause: Unable to locate the source code of <function trace_save_restore_functions.<locals>.restore_fn at 0x000002626AA329D0>. Note that functions defined in certain environments, like the interactive Python shell, do not expose their source code. If that is the case, you should define them in a .py source file. If you are certain the code is graph-compatible, wrap the call using @tf.autograph.experimental.do_not_convert. Original error: could not get source code\n",
      "To silence this warning, decorate the function with @tf.autograph.experimental.do_not_convert\n",
      "WARNING: AutoGraph could not transform <function trace_save_restore_functions.<locals>.restore_fn at 0x000002626AA329D0> and will run it as-is.\n",
      "Cause: Unable to locate the source code of <function trace_save_restore_functions.<locals>.restore_fn at 0x000002626AA329D0>. Note that functions defined in certain environments, like the interactive Python shell, do not expose their source code. If that is the case, you should define them in a .py source file. If you are certain the code is graph-compatible, wrap the call using @tf.autograph.experimental.do_not_convert. Original error: could not get source code\n",
      "To silence this warning, decorate the function with @tf.autograph.experimental.do_not_convert\n",
      "WARNING:tensorflow:AutoGraph could not transform <function trace_save_restore_functions.<locals>.save_fn at 0x000002626AA329D0> and will run it as-is.\n",
      "Cause: Unable to locate the source code of <function trace_save_restore_functions.<locals>.save_fn at 0x000002626AA329D0>. Note that functions defined in certain environments, like the interactive Python shell, do not expose their source code. If that is the case, you should define them in a .py source file. If you are certain the code is graph-compatible, wrap the call using @tf.autograph.experimental.do_not_convert. Original error: could not get source code\n",
      "To silence this warning, decorate the function with @tf.autograph.experimental.do_not_convert\n",
      "WARNING: AutoGraph could not transform <function trace_save_restore_functions.<locals>.save_fn at 0x000002626AA329D0> and will run it as-is.\n",
      "Cause: Unable to locate the source code of <function trace_save_restore_functions.<locals>.save_fn at 0x000002626AA329D0>. Note that functions defined in certain environments, like the interactive Python shell, do not expose their source code. If that is the case, you should define them in a .py source file. If you are certain the code is graph-compatible, wrap the call using @tf.autograph.experimental.do_not_convert. Original error: could not get source code\n",
      "To silence this warning, decorate the function with @tf.autograph.experimental.do_not_convert\n",
      "WARNING:tensorflow:AutoGraph could not transform <function trace_save_restore_functions.<locals>.restore_fn at 0x000002626AA32B80> and will run it as-is.\n",
      "Cause: Unable to locate the source code of <function trace_save_restore_functions.<locals>.restore_fn at 0x000002626AA32B80>. Note that functions defined in certain environments, like the interactive Python shell, do not expose their source code. If that is the case, you should define them in a .py source file. If you are certain the code is graph-compatible, wrap the call using @tf.autograph.experimental.do_not_convert. Original error: could not get source code\n",
      "To silence this warning, decorate the function with @tf.autograph.experimental.do_not_convert\n",
      "WARNING: AutoGraph could not transform <function trace_save_restore_functions.<locals>.restore_fn at 0x000002626AA32B80> and will run it as-is.\n",
      "Cause: Unable to locate the source code of <function trace_save_restore_functions.<locals>.restore_fn at 0x000002626AA32B80>. Note that functions defined in certain environments, like the interactive Python shell, do not expose their source code. If that is the case, you should define them in a .py source file. If you are certain the code is graph-compatible, wrap the call using @tf.autograph.experimental.do_not_convert. Original error: could not get source code\n",
      "To silence this warning, decorate the function with @tf.autograph.experimental.do_not_convert\n",
      "WARNING:tensorflow:AutoGraph could not transform <function _trace_resource_initializers.<locals>._wrap_obj_initializer.<locals>.<lambda> at 0x000002626A9E8E50> and will run it as-is.\n",
      "Cause: could not parse the source code of <function _trace_resource_initializers.<locals>._wrap_obj_initializer.<locals>.<lambda> at 0x000002626A9E8E50>: no matching AST found among candidates:\n",
      "\n",
      "To silence this warning, decorate the function with @tf.autograph.experimental.do_not_convert\n",
      "WARNING: AutoGraph could not transform <function _trace_resource_initializers.<locals>._wrap_obj_initializer.<locals>.<lambda> at 0x000002626A9E8E50> and will run it as-is.\n",
      "Cause: could not parse the source code of <function _trace_resource_initializers.<locals>._wrap_obj_initializer.<locals>.<lambda> at 0x000002626A9E8E50>: no matching AST found among candidates:\n",
      "\n",
      "To silence this warning, decorate the function with @tf.autograph.experimental.do_not_convert\n",
      "WARNING:tensorflow:AutoGraph could not transform <function _trace_resource_initializers.<locals>._wrap_obj_initializer.<locals>.<lambda> at 0x000002619874C5E0> and will run it as-is.\n",
      "Cause: could not parse the source code of <function _trace_resource_initializers.<locals>._wrap_obj_initializer.<locals>.<lambda> at 0x000002619874C5E0>: no matching AST found among candidates:\n",
      "\n",
      "To silence this warning, decorate the function with @tf.autograph.experimental.do_not_convert\n"
     ]
    },
    {
     "name": "stdout",
     "output_type": "stream",
     "text": [
      "WARNING: AutoGraph could not transform <function _trace_resource_initializers.<locals>._wrap_obj_initializer.<locals>.<lambda> at 0x000002619874C5E0> and will run it as-is.\n",
      "Cause: could not parse the source code of <function _trace_resource_initializers.<locals>._wrap_obj_initializer.<locals>.<lambda> at 0x000002619874C5E0>: no matching AST found among candidates:\n",
      "\n",
      "To silence this warning, decorate the function with @tf.autograph.experimental.do_not_convert\n",
      "WARNING:tensorflow:AutoGraph could not transform <function _trace_resource_initializers.<locals>._wrap_obj_initializer.<locals>.<lambda> at 0x000002619874C5E0> and will run it as-is.\n",
      "Cause: could not parse the source code of <function _trace_resource_initializers.<locals>._wrap_obj_initializer.<locals>.<lambda> at 0x000002619874C5E0>: no matching AST found among candidates:\n",
      "\n",
      "To silence this warning, decorate the function with @tf.autograph.experimental.do_not_convert\n",
      "WARNING: AutoGraph could not transform <function _trace_resource_initializers.<locals>._wrap_obj_initializer.<locals>.<lambda> at 0x000002619874C5E0> and will run it as-is.\n",
      "Cause: could not parse the source code of <function _trace_resource_initializers.<locals>._wrap_obj_initializer.<locals>.<lambda> at 0x000002619874C5E0>: no matching AST found among candidates:\n",
      "\n",
      "To silence this warning, decorate the function with @tf.autograph.experimental.do_not_convert\n",
      "WARNING:tensorflow:AutoGraph could not transform <function _trace_resource_initializers.<locals>._wrap_obj_initializer.<locals>.<lambda> at 0x000002619874C5E0> and will run it as-is.\n",
      "Cause: could not parse the source code of <function _trace_resource_initializers.<locals>._wrap_obj_initializer.<locals>.<lambda> at 0x000002619874C5E0>: no matching AST found among candidates:\n",
      "\n",
      "To silence this warning, decorate the function with @tf.autograph.experimental.do_not_convert\n",
      "WARNING: AutoGraph could not transform <function _trace_resource_initializers.<locals>._wrap_obj_initializer.<locals>.<lambda> at 0x000002619874C5E0> and will run it as-is.\n",
      "Cause: could not parse the source code of <function _trace_resource_initializers.<locals>._wrap_obj_initializer.<locals>.<lambda> at 0x000002619874C5E0>: no matching AST found among candidates:\n",
      "\n",
      "To silence this warning, decorate the function with @tf.autograph.experimental.do_not_convert\n",
      "WARNING:tensorflow:AutoGraph could not transform <function _trace_resource_initializers.<locals>._wrap_obj_initializer.<locals>.<lambda> at 0x000002619874C5E0> and will run it as-is.\n",
      "Cause: could not parse the source code of <function _trace_resource_initializers.<locals>._wrap_obj_initializer.<locals>.<lambda> at 0x000002619874C5E0>: no matching AST found among candidates:\n",
      "\n",
      "To silence this warning, decorate the function with @tf.autograph.experimental.do_not_convert\n",
      "WARNING: AutoGraph could not transform <function _trace_resource_initializers.<locals>._wrap_obj_initializer.<locals>.<lambda> at 0x000002619874C5E0> and will run it as-is.\n",
      "Cause: could not parse the source code of <function _trace_resource_initializers.<locals>._wrap_obj_initializer.<locals>.<lambda> at 0x000002619874C5E0>: no matching AST found among candidates:\n",
      "\n",
      "To silence this warning, decorate the function with @tf.autograph.experimental.do_not_convert\n",
      "WARNING:tensorflow:AutoGraph could not transform <function _trace_resource_initializers.<locals>._wrap_obj_initializer.<locals>.<lambda> at 0x000002619874C5E0> and will run it as-is.\n",
      "Cause: could not parse the source code of <function _trace_resource_initializers.<locals>._wrap_obj_initializer.<locals>.<lambda> at 0x000002619874C5E0>: no matching AST found among candidates:\n",
      "\n",
      "To silence this warning, decorate the function with @tf.autograph.experimental.do_not_convert\n",
      "WARNING: AutoGraph could not transform <function _trace_resource_initializers.<locals>._wrap_obj_initializer.<locals>.<lambda> at 0x000002619874C5E0> and will run it as-is.\n",
      "Cause: could not parse the source code of <function _trace_resource_initializers.<locals>._wrap_obj_initializer.<locals>.<lambda> at 0x000002619874C5E0>: no matching AST found among candidates:\n",
      "\n",
      "To silence this warning, decorate the function with @tf.autograph.experimental.do_not_convert\n",
      "WARNING:tensorflow:AutoGraph could not transform <function _trace_resource_initializers.<locals>._wrap_obj_initializer.<locals>.<lambda> at 0x000002626A9E8E50> and will run it as-is.\n",
      "Cause: could not parse the source code of <function _trace_resource_initializers.<locals>._wrap_obj_initializer.<locals>.<lambda> at 0x000002626A9E8E50>: no matching AST found among candidates:\n",
      "\n",
      "To silence this warning, decorate the function with @tf.autograph.experimental.do_not_convert\n",
      "WARNING: AutoGraph could not transform <function _trace_resource_initializers.<locals>._wrap_obj_initializer.<locals>.<lambda> at 0x000002626A9E8E50> and will run it as-is.\n",
      "Cause: could not parse the source code of <function _trace_resource_initializers.<locals>._wrap_obj_initializer.<locals>.<lambda> at 0x000002626A9E8E50>: no matching AST found among candidates:\n",
      "\n",
      "To silence this warning, decorate the function with @tf.autograph.experimental.do_not_convert\n",
      "WARNING:tensorflow:AutoGraph could not transform <function _trace_resource_initializers.<locals>._wrap_obj_initializer.<locals>.<lambda> at 0x000002619874C5E0> and will run it as-is.\n",
      "Cause: could not parse the source code of <function _trace_resource_initializers.<locals>._wrap_obj_initializer.<locals>.<lambda> at 0x000002619874C5E0>: no matching AST found among candidates:\n",
      "\n",
      "To silence this warning, decorate the function with @tf.autograph.experimental.do_not_convert\n",
      "WARNING: AutoGraph could not transform <function _trace_resource_initializers.<locals>._wrap_obj_initializer.<locals>.<lambda> at 0x000002619874C5E0> and will run it as-is.\n",
      "Cause: could not parse the source code of <function _trace_resource_initializers.<locals>._wrap_obj_initializer.<locals>.<lambda> at 0x000002619874C5E0>: no matching AST found among candidates:\n",
      "\n",
      "To silence this warning, decorate the function with @tf.autograph.experimental.do_not_convert\n",
      "WARNING:tensorflow:AutoGraph could not transform <function _trace_resource_initializers.<locals>._wrap_obj_initializer.<locals>.<lambda> at 0x000002619874C5E0> and will run it as-is.\n",
      "Cause: could not parse the source code of <function _trace_resource_initializers.<locals>._wrap_obj_initializer.<locals>.<lambda> at 0x000002619874C5E0>: no matching AST found among candidates:\n",
      "\n",
      "To silence this warning, decorate the function with @tf.autograph.experimental.do_not_convert\n",
      "WARNING: AutoGraph could not transform <function _trace_resource_initializers.<locals>._wrap_obj_initializer.<locals>.<lambda> at 0x000002619874C5E0> and will run it as-is.\n",
      "Cause: could not parse the source code of <function _trace_resource_initializers.<locals>._wrap_obj_initializer.<locals>.<lambda> at 0x000002619874C5E0>: no matching AST found among candidates:\n",
      "\n",
      "To silence this warning, decorate the function with @tf.autograph.experimental.do_not_convert\n",
      "WARNING:tensorflow:AutoGraph could not transform <function _trace_resource_initializers.<locals>._wrap_obj_initializer.<locals>.<lambda> at 0x000002619874C5E0> and will run it as-is.\n",
      "Cause: could not parse the source code of <function _trace_resource_initializers.<locals>._wrap_obj_initializer.<locals>.<lambda> at 0x000002619874C5E0>: no matching AST found among candidates:\n",
      "\n",
      "To silence this warning, decorate the function with @tf.autograph.experimental.do_not_convert\n",
      "WARNING: AutoGraph could not transform <function _trace_resource_initializers.<locals>._wrap_obj_initializer.<locals>.<lambda> at 0x000002619874C5E0> and will run it as-is.\n",
      "Cause: could not parse the source code of <function _trace_resource_initializers.<locals>._wrap_obj_initializer.<locals>.<lambda> at 0x000002619874C5E0>: no matching AST found among candidates:\n",
      "\n",
      "To silence this warning, decorate the function with @tf.autograph.experimental.do_not_convert\n",
      "WARNING:tensorflow:AutoGraph could not transform <function _trace_resource_initializers.<locals>._wrap_obj_initializer.<locals>.<lambda> at 0x000002619874C5E0> and will run it as-is.\n",
      "Cause: could not parse the source code of <function _trace_resource_initializers.<locals>._wrap_obj_initializer.<locals>.<lambda> at 0x000002619874C5E0>: no matching AST found among candidates:\n",
      "\n",
      "To silence this warning, decorate the function with @tf.autograph.experimental.do_not_convert\n"
     ]
    },
    {
     "name": "stdout",
     "output_type": "stream",
     "text": [
      "WARNING: AutoGraph could not transform <function _trace_resource_initializers.<locals>._wrap_obj_initializer.<locals>.<lambda> at 0x000002619874C5E0> and will run it as-is.\n",
      "Cause: could not parse the source code of <function _trace_resource_initializers.<locals>._wrap_obj_initializer.<locals>.<lambda> at 0x000002619874C5E0>: no matching AST found among candidates:\n",
      "\n",
      "To silence this warning, decorate the function with @tf.autograph.experimental.do_not_convert\n",
      "WARNING:tensorflow:AutoGraph could not transform <function _trace_resource_initializers.<locals>._wrap_obj_initializer.<locals>.<lambda> at 0x000002619874C5E0> and will run it as-is.\n",
      "Cause: could not parse the source code of <function _trace_resource_initializers.<locals>._wrap_obj_initializer.<locals>.<lambda> at 0x000002619874C5E0>: no matching AST found among candidates:\n",
      "\n",
      "To silence this warning, decorate the function with @tf.autograph.experimental.do_not_convert\n",
      "WARNING: AutoGraph could not transform <function _trace_resource_initializers.<locals>._wrap_obj_initializer.<locals>.<lambda> at 0x000002619874C5E0> and will run it as-is.\n",
      "Cause: could not parse the source code of <function _trace_resource_initializers.<locals>._wrap_obj_initializer.<locals>.<lambda> at 0x000002619874C5E0>: no matching AST found among candidates:\n",
      "\n",
      "To silence this warning, decorate the function with @tf.autograph.experimental.do_not_convert\n",
      "WARNING:tensorflow:AutoGraph could not transform <function _trace_resource_initializers.<locals>._wrap_obj_initializer.<locals>.<lambda> at 0x000002619874C5E0> and will run it as-is.\n",
      "Cause: could not parse the source code of <function _trace_resource_initializers.<locals>._wrap_obj_initializer.<locals>.<lambda> at 0x000002619874C5E0>: no matching AST found among candidates:\n",
      "\n",
      "To silence this warning, decorate the function with @tf.autograph.experimental.do_not_convert\n",
      "WARNING: AutoGraph could not transform <function _trace_resource_initializers.<locals>._wrap_obj_initializer.<locals>.<lambda> at 0x000002619874C5E0> and will run it as-is.\n",
      "Cause: could not parse the source code of <function _trace_resource_initializers.<locals>._wrap_obj_initializer.<locals>.<lambda> at 0x000002619874C5E0>: no matching AST found among candidates:\n",
      "\n",
      "To silence this warning, decorate the function with @tf.autograph.experimental.do_not_convert\n",
      "WARNING:tensorflow:AutoGraph could not transform <function _trace_resource_initializers.<locals>._wrap_obj_initializer.<locals>.<lambda> at 0x000002619874C5E0> and will run it as-is.\n",
      "Cause: could not parse the source code of <function _trace_resource_initializers.<locals>._wrap_obj_initializer.<locals>.<lambda> at 0x000002619874C5E0>: no matching AST found among candidates:\n",
      "\n",
      "To silence this warning, decorate the function with @tf.autograph.experimental.do_not_convert\n",
      "WARNING: AutoGraph could not transform <function _trace_resource_initializers.<locals>._wrap_obj_initializer.<locals>.<lambda> at 0x000002619874C5E0> and will run it as-is.\n",
      "Cause: could not parse the source code of <function _trace_resource_initializers.<locals>._wrap_obj_initializer.<locals>.<lambda> at 0x000002619874C5E0>: no matching AST found among candidates:\n",
      "\n",
      "To silence this warning, decorate the function with @tf.autograph.experimental.do_not_convert\n",
      "WARNING:tensorflow:AutoGraph could not transform <function _trace_resource_initializers.<locals>._wrap_obj_initializer.<locals>.<lambda> at 0x000002619874C5E0> and will run it as-is.\n",
      "Cause: could not parse the source code of <function _trace_resource_initializers.<locals>._wrap_obj_initializer.<locals>.<lambda> at 0x000002619874C5E0>: no matching AST found among candidates:\n",
      "\n",
      "To silence this warning, decorate the function with @tf.autograph.experimental.do_not_convert\n",
      "WARNING: AutoGraph could not transform <function _trace_resource_initializers.<locals>._wrap_obj_initializer.<locals>.<lambda> at 0x000002619874C5E0> and will run it as-is.\n",
      "Cause: could not parse the source code of <function _trace_resource_initializers.<locals>._wrap_obj_initializer.<locals>.<lambda> at 0x000002619874C5E0>: no matching AST found among candidates:\n",
      "\n",
      "To silence this warning, decorate the function with @tf.autograph.experimental.do_not_convert\n",
      "WARNING:tensorflow:AutoGraph could not transform <function _trace_resource_initializers.<locals>._wrap_obj_initializer.<locals>.<lambda> at 0x000002619874C5E0> and will run it as-is.\n",
      "Cause: could not parse the source code of <function _trace_resource_initializers.<locals>._wrap_obj_initializer.<locals>.<lambda> at 0x000002619874C5E0>: no matching AST found among candidates:\n",
      "\n",
      "To silence this warning, decorate the function with @tf.autograph.experimental.do_not_convert\n",
      "WARNING: AutoGraph could not transform <function _trace_resource_initializers.<locals>._wrap_obj_initializer.<locals>.<lambda> at 0x000002619874C5E0> and will run it as-is.\n",
      "Cause: could not parse the source code of <function _trace_resource_initializers.<locals>._wrap_obj_initializer.<locals>.<lambda> at 0x000002619874C5E0>: no matching AST found among candidates:\n",
      "\n",
      "To silence this warning, decorate the function with @tf.autograph.experimental.do_not_convert\n",
      "WARNING:tensorflow:AutoGraph could not transform <function _trace_resource_initializers.<locals>._wrap_obj_initializer.<locals>.<lambda> at 0x000002619874C5E0> and will run it as-is.\n",
      "Cause: could not parse the source code of <function _trace_resource_initializers.<locals>._wrap_obj_initializer.<locals>.<lambda> at 0x000002619874C5E0>: no matching AST found among candidates:\n",
      "\n",
      "To silence this warning, decorate the function with @tf.autograph.experimental.do_not_convert\n",
      "WARNING: AutoGraph could not transform <function _trace_resource_initializers.<locals>._wrap_obj_initializer.<locals>.<lambda> at 0x000002619874C5E0> and will run it as-is.\n",
      "Cause: could not parse the source code of <function _trace_resource_initializers.<locals>._wrap_obj_initializer.<locals>.<lambda> at 0x000002619874C5E0>: no matching AST found among candidates:\n",
      "\n",
      "To silence this warning, decorate the function with @tf.autograph.experimental.do_not_convert\n",
      "WARNING:tensorflow:AutoGraph could not transform <function _trace_resource_initializers.<locals>._wrap_obj_initializer.<locals>.<lambda> at 0x000002619874C5E0> and will run it as-is.\n",
      "Cause: could not parse the source code of <function _trace_resource_initializers.<locals>._wrap_obj_initializer.<locals>.<lambda> at 0x000002619874C5E0>: no matching AST found among candidates:\n",
      "\n",
      "To silence this warning, decorate the function with @tf.autograph.experimental.do_not_convert\n",
      "WARNING: AutoGraph could not transform <function _trace_resource_initializers.<locals>._wrap_obj_initializer.<locals>.<lambda> at 0x000002619874C5E0> and will run it as-is.\n",
      "Cause: could not parse the source code of <function _trace_resource_initializers.<locals>._wrap_obj_initializer.<locals>.<lambda> at 0x000002619874C5E0>: no matching AST found among candidates:\n",
      "\n",
      "To silence this warning, decorate the function with @tf.autograph.experimental.do_not_convert\n",
      "WARNING:tensorflow:AutoGraph could not transform <function _trace_resource_initializers.<locals>._wrap_obj_initializer.<locals>.<lambda> at 0x000002619874C5E0> and will run it as-is.\n",
      "Cause: could not parse the source code of <function _trace_resource_initializers.<locals>._wrap_obj_initializer.<locals>.<lambda> at 0x000002619874C5E0>: no matching AST found among candidates:\n",
      "\n",
      "To silence this warning, decorate the function with @tf.autograph.experimental.do_not_convert\n",
      "WARNING: AutoGraph could not transform <function _trace_resource_initializers.<locals>._wrap_obj_initializer.<locals>.<lambda> at 0x000002619874C5E0> and will run it as-is.\n",
      "Cause: could not parse the source code of <function _trace_resource_initializers.<locals>._wrap_obj_initializer.<locals>.<lambda> at 0x000002619874C5E0>: no matching AST found among candidates:\n",
      "\n",
      "To silence this warning, decorate the function with @tf.autograph.experimental.do_not_convert\n",
      "WARNING:tensorflow:AutoGraph could not transform <function _trace_resource_initializers.<locals>._wrap_obj_initializer.<locals>.<lambda> at 0x000002619874C5E0> and will run it as-is.\n",
      "Cause: could not parse the source code of <function _trace_resource_initializers.<locals>._wrap_obj_initializer.<locals>.<lambda> at 0x000002619874C5E0>: no matching AST found among candidates:\n",
      "\n",
      "To silence this warning, decorate the function with @tf.autograph.experimental.do_not_convert\n"
     ]
    },
    {
     "name": "stdout",
     "output_type": "stream",
     "text": [
      "WARNING: AutoGraph could not transform <function _trace_resource_initializers.<locals>._wrap_obj_initializer.<locals>.<lambda> at 0x000002619874C5E0> and will run it as-is.\n",
      "Cause: could not parse the source code of <function _trace_resource_initializers.<locals>._wrap_obj_initializer.<locals>.<lambda> at 0x000002619874C5E0>: no matching AST found among candidates:\n",
      "\n",
      "To silence this warning, decorate the function with @tf.autograph.experimental.do_not_convert\n",
      "WARNING:tensorflow:AutoGraph could not transform <function _trace_resource_initializers.<locals>._wrap_obj_initializer.<locals>.<lambda> at 0x000002619874C5E0> and will run it as-is.\n",
      "Cause: could not parse the source code of <function _trace_resource_initializers.<locals>._wrap_obj_initializer.<locals>.<lambda> at 0x000002619874C5E0>: no matching AST found among candidates:\n",
      "\n",
      "To silence this warning, decorate the function with @tf.autograph.experimental.do_not_convert\n",
      "WARNING: AutoGraph could not transform <function _trace_resource_initializers.<locals>._wrap_obj_initializer.<locals>.<lambda> at 0x000002619874C5E0> and will run it as-is.\n",
      "Cause: could not parse the source code of <function _trace_resource_initializers.<locals>._wrap_obj_initializer.<locals>.<lambda> at 0x000002619874C5E0>: no matching AST found among candidates:\n",
      "\n",
      "To silence this warning, decorate the function with @tf.autograph.experimental.do_not_convert\n",
      "WARNING:tensorflow:AutoGraph could not transform <function _trace_resource_initializers.<locals>._wrap_obj_initializer.<locals>.<lambda> at 0x000002619874C5E0> and will run it as-is.\n",
      "Cause: could not parse the source code of <function _trace_resource_initializers.<locals>._wrap_obj_initializer.<locals>.<lambda> at 0x000002619874C5E0>: no matching AST found among candidates:\n",
      "\n",
      "To silence this warning, decorate the function with @tf.autograph.experimental.do_not_convert\n",
      "WARNING: AutoGraph could not transform <function _trace_resource_initializers.<locals>._wrap_obj_initializer.<locals>.<lambda> at 0x000002619874C5E0> and will run it as-is.\n",
      "Cause: could not parse the source code of <function _trace_resource_initializers.<locals>._wrap_obj_initializer.<locals>.<lambda> at 0x000002619874C5E0>: no matching AST found among candidates:\n",
      "\n",
      "To silence this warning, decorate the function with @tf.autograph.experimental.do_not_convert\n",
      "INFO:tensorflow:Assets written to: my_classifier\\assets\n"
     ]
    }
   ],
   "source": [
    "model.save('my_classifier')"
   ]
  },
  {
   "cell_type": "code",
   "execution_count": 161,
   "id": "3c9c4105",
   "metadata": {},
   "outputs": [],
   "source": [
    "reloaded_model = tf.keras.models.load_model('my_classifier')"
   ]
  },
  {
   "cell_type": "code",
   "execution_count": 164,
   "id": "1d4aa5f0",
   "metadata": {},
   "outputs": [
    {
     "name": "stdout",
     "output_type": "stream",
     "text": [
      "1/1 [==============================] - 0s 21ms/step\n",
      "This person has a 79.0 percent probability of buying something.\n"
     ]
    }
   ],
   "source": [
    "sample = {\n",
    "    \"event_wday\": \"Saturday\",\n",
    "  \"user_id\": \"36638696.4\",\n",
    "  \"session_id\": \"6944996097\",\n",
    "  \"session_duration\": 417760792,\n",
    "  \"is_new_visitor\": 1,\n",
    "  \"account_sign_in\": 1,\n",
    "  \"saw_search_results_n\": 1,\n",
    "  \"product_list_pageview_n\": 1,\n",
    "  \"product_pageviews_n\": 1,\n",
    "  \"add_to_cart_n\": 1,\n",
    "  \"reached_cart_n\": 1,\n",
    "  \"start_checkout_n\": 1,\n",
    "  \"shipping_stage_completed_n\": 1,\n",
    "  \"payment_stage_completed\": 1\n",
    "}\n",
    "\n",
    "input_dict = {name: tf.convert_to_tensor([value]) for name, value in sample.items()}\n",
    "predictions = reloaded_model.predict(input_dict)\n",
    "prob = tf.nn.sigmoid(predictions[0])\n",
    "\n",
    "print(\n",
    "    \"This person has a %.1f percent probability \"\n",
    "    \"of buying something.\" % (100 * prob)\n",
    ")"
   ]
  },
  {
   "cell_type": "code",
   "execution_count": 56,
   "id": "8b9afc2c",
   "metadata": {},
   "outputs": [
    {
     "name": "stdout",
     "output_type": "stream",
     "text": [
      "Evaluate on test data\n",
      "142/142 [==============================] - 0s 1ms/step - loss: 0.0426 - accuracy: 0.9855\n",
      "test loss, test acc: [0.042620085179805756, 0.9854562282562256]\n"
     ]
    }
   ],
   "source": [
    "print(\"Evaluate on test data\")\n",
    "results = model.evaluate(test_ds)\n",
    "print(\"test loss, test acc:\", results)"
   ]
  }
 ],
 "metadata": {
  "kernelspec": {
   "display_name": "Python 3",
   "language": "python",
   "name": "python3"
  },
  "language_info": {
   "codemirror_mode": {
    "name": "ipython",
    "version": 3
   },
   "file_extension": ".py",
   "mimetype": "text/x-python",
   "name": "python",
   "nbconvert_exporter": "python",
   "pygments_lexer": "ipython3",
   "version": "3.8.13"
  }
 },
 "nbformat": 4,
 "nbformat_minor": 5
}
